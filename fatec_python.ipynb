{
  "nbformat": 4,
  "nbformat_minor": 0,
  "metadata": {
    "colab": {
      "provenance": [],
      "authorship_tag": "ABX9TyM6n0FhIPUBh4doyVaGDz93",
      "include_colab_link": true
    },
    "kernelspec": {
      "name": "python3",
      "display_name": "Python 3"
    },
    "language_info": {
      "name": "python"
    }
  },
  "cells": [
    {
      "cell_type": "markdown",
      "metadata": {
        "id": "view-in-github",
        "colab_type": "text"
      },
      "source": [
        "<a href=\"https://colab.research.google.com/github/Gustagoal/cursopython/blob/main/fatec_python.ipynb\" target=\"_parent\"><img src=\"https://colab.research.google.com/assets/colab-badge.svg\" alt=\"Open In Colab\"/></a>"
      ]
    },
    {
      "cell_type": "code",
      "execution_count": null,
      "metadata": {
        "id": "PkhzYtJUKcOR"
      },
      "outputs": [],
      "source": [
        "from logging import exception\n",
        "def impar_par(numero):\n",
        "  if type(numero) != int:\n",
        "    raise Exception('A função necessita de um valor do tipo \"INT\" ')\n",
        "  if numero % 2 == 0:\n",
        "    return \"Número par\"\n",
        "  else:\n",
        "    return \"Número ímpar\"\n",
        "\n",
        "\n",
        "user = input(\"Digite um número : \")\n",
        "r = impar_par(user)\n",
        "print(r)\n"
      ]
    },
    {
      "cell_type": "code",
      "source": [
        "from logging import exception\n",
        "def impar_par(numero):\n",
        "  if not isinstance(numero,int):\n",
        "    raise Exception(\"A função necessita de um valor inteiro\")\n",
        "  if numero % 2 == 0:\n",
        "    return \"Número par\"\n",
        "  else:\n",
        "    return \"Número ímpar\"\n",
        "\n",
        "\n",
        "user = input(\"Digite um número : \")\n",
        "r = impar_par(user)\n",
        "print(r)\n"
      ],
      "metadata": {
        "id": "mEIg5RmcMbl3"
      },
      "execution_count": null,
      "outputs": []
    },
    {
      "cell_type": "code",
      "source": [
        "x = 6 + 5 * (4 - 3 / 2 ** 2)\n",
        "\n",
        "print(x)"
      ],
      "metadata": {
        "colab": {
          "base_uri": "https://localhost:8080/"
        },
        "id": "F5rHGSew8cES",
        "outputId": "f48f7672-d81a-4d07-a006-924203a8c856"
      },
      "execution_count": null,
      "outputs": [
        {
          "output_type": "stream",
          "name": "stdout",
          "text": [
            "22.25\n"
          ]
        }
      ]
    },
    {
      "cell_type": "code",
      "source": [
        "a = 3\n",
        "b = 2\n",
        "if a ** b > b ** a:\n",
        "  if a % b == a // 1:\n",
        "    print('UM')\n",
        "else:\n",
        "    print('DOIS')"
      ],
      "metadata": {
        "id": "A0MJ-rBT9Y3C"
      },
      "execution_count": null,
      "outputs": []
    },
    {
      "cell_type": "code",
      "source": [
        "x = n = 0\n",
        "while n <= 100:\n",
        "    if n % 10 == 0:\n",
        "        x += 1\n",
        "    n += 1\n",
        "\n",
        "print(x)"
      ],
      "metadata": {
        "colab": {
          "base_uri": "https://localhost:8080/"
        },
        "id": "Xqf_3nZ09pv6",
        "outputId": "9c0ba3e4-0354-40cb-d183-661b090b3b16"
      },
      "execution_count": null,
      "outputs": [
        {
          "output_type": "stream",
          "name": "stdout",
          "text": [
            "11\n"
          ]
        }
      ]
    },
    {
      "cell_type": "code",
      "source": [
        "x = 3\n",
        "while x < 16 :\n",
        "    x = x * 4\n",
        "\n",
        "print(x)"
      ],
      "metadata": {
        "colab": {
          "base_uri": "https://localhost:8080/"
        },
        "id": "1t5fbg1TKw2X",
        "outputId": "7eb5b04e-1fd5-4b3b-f545-f833b95bcfa9"
      },
      "execution_count": null,
      "outputs": [
        {
          "output_type": "stream",
          "name": "stdout",
          "text": [
            "48\n"
          ]
        }
      ]
    },
    {
      "cell_type": "code",
      "source": [
        "n = 3\n",
        "p = \"CPS\"\n",
        "# p = n + p\n",
        "# n = p - n\n",
        "p *= n"
      ],
      "metadata": {
        "id": "Ps0lmThdLRlp"
      },
      "execution_count": null,
      "outputs": []
    },
    {
      "cell_type": "code",
      "source": [
        "# Math case\n",
        "n = 0\n",
        "while n<1:\n",
        "  n = input(\"Digite um número\")\n",
        "  match n:\n",
        "    case 2:\n",
        "      print(\"Voce digitou 2 \")\n",
        "    case 3:\n",
        "      print(\"Voce digitou 3 \")\n",
        "    case 4:\n",
        "      print(\"Voce digitou 4 \")\n",
        "    case 5:\n",
        "      print(\"Voce digitou 5 \")\n",
        "\n"
      ],
      "metadata": {
        "id": "zgjEekYJNrvB"
      },
      "execution_count": null,
      "outputs": []
    },
    {
      "cell_type": "code",
      "source": [
        "# if inline\n",
        "y = 10\n",
        "x = 9\n",
        "print(x) if x >= y else print(y)\n"
      ],
      "metadata": {
        "colab": {
          "base_uri": "https://localhost:8080/"
        },
        "id": "_zFopvoPqzUY",
        "outputId": "274e5f9b-808f-4ab4-d19b-16a882ce0f80"
      },
      "execution_count": null,
      "outputs": [
        {
          "output_type": "stream",
          "name": "stdout",
          "text": [
            "10\n"
          ]
        }
      ]
    },
    {
      "cell_type": "code",
      "source": [
        "s = 123\n",
        "for d in str(s):\n",
        "    match d:\n",
        "        case 3: print('x', end='')\n",
        "        case 2: print('a', end='')\n",
        "        case 1: print('y', end='')\n",
        "        case _: print('z', end='')"
      ],
      "metadata": {
        "colab": {
          "base_uri": "https://localhost:8080/"
        },
        "id": "jMv-dEX_tvr6",
        "outputId": "a78db651-9e15-4bb2-a689-a00471c3579a"
      },
      "execution_count": null,
      "outputs": [
        {
          "output_type": "stream",
          "name": "stdout",
          "text": [
            "zzz"
          ]
        }
      ]
    },
    {
      "cell_type": "code",
      "source": [
        "# conjuntos\n",
        "\n",
        "l = {1,2,3,45,6,5,6,78}\n",
        "print(type(l))\n",
        "l = [1,2,3,45,6,5,6,78]\n",
        "print(set(l))\n",
        "\n"
      ],
      "metadata": {
        "colab": {
          "base_uri": "https://localhost:8080/"
        },
        "id": "VDURyRUt7qf6",
        "outputId": "5668fbad-79b1-47cb-e3d2-3be004dd2629"
      },
      "execution_count": null,
      "outputs": [
        {
          "output_type": "stream",
          "name": "stdout",
          "text": [
            "<class 'set'>\n",
            "{1, 2, 3, 5, 6, 45, 78}\n"
          ]
        }
      ]
    },
    {
      "cell_type": "code",
      "source": [
        "C = set( [2, 4, 8, 3, 9, 27, 4, 16, 64] )\n",
        "for elemento in C:\n",
        "    print(elemento)"
      ],
      "metadata": {
        "colab": {
          "base_uri": "https://localhost:8080/"
        },
        "id": "CGMbksa3J2ss",
        "outputId": "7d3e7387-9aca-4f2d-a397-63f6703b5809"
      },
      "execution_count": null,
      "outputs": [
        {
          "output_type": "stream",
          "name": "stdout",
          "text": [
            "64\n",
            "2\n",
            "3\n",
            "4\n",
            "8\n",
            "9\n",
            "16\n",
            "27\n"
          ]
        }
      ]
    },
    {
      "cell_type": "code",
      "source": [
        "ssolar = { 'Mercúrio': 4879.4,\n",
        "           'Vênus': 12104,\n",
        "           'Terra': 12742,\n",
        "           'Marte': 6779,\n",
        "           'Júpiter': 139829,\n",
        "           'Saturno': 116460,\n",
        "           'Urano': 50724\n",
        "}\n",
        "ssolar['Marte'], ssolar.values(), ssolar['Neturno'] = 4924"
      ],
      "metadata": {
        "colab": {
          "base_uri": "https://localhost:8080/",
          "height": 106
        },
        "id": "Cy5uwTijKR0a",
        "outputId": "541a50a6-6725-4bb3-f305-19a989108e16"
      },
      "execution_count": null,
      "outputs": [
        {
          "output_type": "error",
          "ename": "SyntaxError",
          "evalue": "cannot assign to subscript here. Maybe you meant '==' instead of '='? (ipython-input-924048281.py, line 9)",
          "traceback": [
            "\u001b[0;36m  File \u001b[0;32m\"/tmp/ipython-input-924048281.py\"\u001b[0;36m, line \u001b[0;32m9\u001b[0m\n\u001b[0;31m    ssolar['Marte'], ssolar.values(), ssolar['Neturno'] = 4924\u001b[0m\n\u001b[0m                                      ^\u001b[0m\n\u001b[0;31mSyntaxError\u001b[0m\u001b[0;31m:\u001b[0m cannot assign to subscript here. Maybe you meant '==' instead of '='?\n"
          ]
        }
      ]
    },
    {
      "cell_type": "code",
      "source": [
        "r = [ a*2 for a in ['1', '2', '3']]\n",
        "print(r)\n",
        "\n"
      ],
      "metadata": {
        "id": "QXmgfjKaML_s",
        "outputId": "997a4275-d44f-4cc1-d25c-cdc535d06835",
        "colab": {
          "base_uri": "https://localhost:8080/"
        }
      },
      "execution_count": null,
      "outputs": [
        {
          "output_type": "stream",
          "name": "stdout",
          "text": [
            "['11', '22', '33']\n"
          ]
        }
      ]
    },
    {
      "cell_type": "code",
      "source": [
        "cores = {1: 'azul', 2: 'verde', 3: 'amarelo', 4: 'vermelho'}\n",
        "for n, cor in cores.items(): print(n, cor)"
      ],
      "metadata": {
        "colab": {
          "base_uri": "https://localhost:8080/"
        },
        "id": "iWDq3Oc4Kug0",
        "outputId": "0fa13a86-c30c-4ec1-8a28-86562aedd1b2"
      },
      "execution_count": null,
      "outputs": [
        {
          "output_type": "stream",
          "name": "stdout",
          "text": [
            "1 azul\n",
            "2 verde\n",
            "3 amarelo\n",
            "4 vermelho\n"
          ]
        }
      ]
    }
  ]
}