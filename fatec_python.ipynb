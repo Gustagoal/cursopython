{
  "nbformat": 4,
  "nbformat_minor": 0,
  "metadata": {
    "colab": {
      "provenance": [],
      "authorship_tag": "ABX9TyPyvy5X+HDdaaVq5TMeBl2O",
      "include_colab_link": true
    },
    "kernelspec": {
      "name": "python3",
      "display_name": "Python 3"
    },
    "language_info": {
      "name": "python"
    }
  },
  "cells": [
    {
      "cell_type": "markdown",
      "metadata": {
        "id": "view-in-github",
        "colab_type": "text"
      },
      "source": [
        "<a href=\"https://colab.research.google.com/github/Gustagoal/cursopython/blob/main/fatec_python.ipynb\" target=\"_parent\"><img src=\"https://colab.research.google.com/assets/colab-badge.svg\" alt=\"Open In Colab\"/></a>"
      ]
    },
    {
      "cell_type": "code",
      "execution_count": null,
      "metadata": {
        "id": "PkhzYtJUKcOR"
      },
      "outputs": [],
      "source": [
        "from logging import exception\n",
        "def impar_par(numero):\n",
        "  if type(numero) != int:\n",
        "    raise Exception('A função necessita de um valor do tipo \"INT\" ')\n",
        "  if numero % 2 == 0:\n",
        "    return \"Número par\"\n",
        "  else:\n",
        "    return \"Número ímpar\"\n",
        "\n",
        "\n",
        "user = input(\"Digite um número : \")\n",
        "r = impar_par(user)\n",
        "print(r)\n"
      ]
    },
    {
      "cell_type": "code",
      "source": [
        "from logging import exception\n",
        "def impar_par(numero):\n",
        "  if not isinstance(numero,int):\n",
        "    raise Exception(\"A função necessita de um valor inteiro\")\n",
        "  if numero % 2 == 0:\n",
        "    return \"Número par\"\n",
        "  else:\n",
        "    return \"Número ímpar\"\n",
        "\n",
        "\n",
        "user = input(\"Digite um número : \")\n",
        "r = impar_par(user)\n",
        "print(r)\n"
      ],
      "metadata": {
        "id": "mEIg5RmcMbl3"
      },
      "execution_count": null,
      "outputs": []
    },
    {
      "cell_type": "code",
      "source": [
        "x = 6 + 5 * (4 - 3 / 2 ** 2)\n",
        "\n",
        "print(x)"
      ],
      "metadata": {
        "colab": {
          "base_uri": "https://localhost:8080/"
        },
        "id": "F5rHGSew8cES",
        "outputId": "f48f7672-d81a-4d07-a006-924203a8c856"
      },
      "execution_count": null,
      "outputs": [
        {
          "output_type": "stream",
          "name": "stdout",
          "text": [
            "22.25\n"
          ]
        }
      ]
    },
    {
      "cell_type": "code",
      "source": [
        "a = 3\n",
        "b = 2\n",
        "if a ** b > b ** a:\n",
        "  if a % b == a // 1:\n",
        "    print('UM')\n",
        "else:\n",
        "    print('DOIS')"
      ],
      "metadata": {
        "id": "A0MJ-rBT9Y3C"
      },
      "execution_count": 10,
      "outputs": []
    },
    {
      "cell_type": "code",
      "source": [
        "x = n = 0\n",
        "while n <= 100:\n",
        "    if n % 10 == 0:\n",
        "        x += 1\n",
        "    n += 1\n",
        "\n",
        "print(x)"
      ],
      "metadata": {
        "colab": {
          "base_uri": "https://localhost:8080/"
        },
        "id": "Xqf_3nZ09pv6",
        "outputId": "9c0ba3e4-0354-40cb-d183-661b090b3b16"
      },
      "execution_count": 11,
      "outputs": [
        {
          "output_type": "stream",
          "name": "stdout",
          "text": [
            "11\n"
          ]
        }
      ]
    },
    {
      "cell_type": "code",
      "source": [
        "x = 3\n",
        "while x < 16 :\n",
        "    x = x * 4\n",
        "\n",
        "print(x)"
      ],
      "metadata": {
        "colab": {
          "base_uri": "https://localhost:8080/"
        },
        "id": "1t5fbg1TKw2X",
        "outputId": "7eb5b04e-1fd5-4b3b-f545-f833b95bcfa9"
      },
      "execution_count": 14,
      "outputs": [
        {
          "output_type": "stream",
          "name": "stdout",
          "text": [
            "48\n"
          ]
        }
      ]
    },
    {
      "cell_type": "code",
      "source": [
        "n = 3\n",
        "p = \"CPS\"\n",
        "# p = n + p\n",
        "# n = p - n\n",
        "p *= n"
      ],
      "metadata": {
        "id": "Ps0lmThdLRlp"
      },
      "execution_count": 17,
      "outputs": []
    }
  ]
}